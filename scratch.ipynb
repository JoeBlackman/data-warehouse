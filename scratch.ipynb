{
 "cells": [
  {
   "cell_type": "code",
   "execution_count": null,
   "metadata": {},
   "outputs": [],
   "source": [
    "import psycopg2\n",
    "import pandas as pd"
   ]
  },
  {
   "cell_type": "code",
   "execution_count": null,
   "metadata": {},
   "outputs": [],
   "source": [
    "def formatForRedshift(row):\n",
    "    \"\"\"\n",
    "    replace None with 'null' and add dollar quotes wherever necessary\n",
    "    \"\"\"\n",
    "    # shallow copy row to data so the data origin isn't modified\n",
    "    data = copy.copy(row)\n",
    "    for field in data.index:\n",
    "        if (data[field] is None) or (data[field] =='nan'):\n",
    "            data[field] = 'null'\n",
    "        else:\n",
    "            data[field] = f'${field}${data[field]}${field}$'\n",
    "    return data"
   ]
  },
  {
   "cell_type": "code",
   "execution_count": null,
   "metadata": {},
   "outputs": [],
   "source": [
    "conn = psycopg2.connect(f\"\"\"\n",
    "        host=127.0.0.1 \n",
    "        dbname=scratchdb \n",
    "        user=student\n",
    "        password=student\n",
    "        port=5432\n",
    "    \"\"\")\n",
    "cur = conn.cursor()\n",
    "\n",
    "cur.execute('SELECT * FROM staging_songs;')\n",
    "conn.commit()\n",
    "data=cur.fetchall()\n",
    "#returns list of tuples\n",
    "#convert list of tuples to pandas dataframe\n",
    "df = pd.DataFrame(data, columns=[\n",
    "        'num_songs', 'artist_id', 'artist_latitude', 'artist_longitude',\n",
    "        'artist_location', 'artist_name', 'song_id', 'title', 'duration', 'year'\n",
    "    ]\n",
    ")\n",
    "print(df)\n",
    "conn.close()"
   ]
  },
  {
   "cell_type": "code",
   "execution_count": null,
   "metadata": {},
   "outputs": [],
   "source": [
    "conn = psycopg2.connect(f\"\"\"\n",
    "        host=127.0.0.1 \n",
    "        dbname=scratchdb \n",
    "        user=student\n",
    "        password=student\n",
    "        port=5432\n",
    "    \"\"\")\n",
    "cur = conn.cursor()\n",
    "\n",
    "cur.execute('SELECT * FROM staging_events;')\n",
    "conn.commit()\n",
    "data=cur.fetchall()\n",
    "#returns list of tuples\n",
    "#convert list of tuples to pandas dataframe\n",
    "C\n",
    "#print(df)\n",
    "conn.close()\n",
    "for index, row in df.iterrows():\n",
    "    print(formatForRedshift(row))"
   ]
  },
  {
   "cell_type": "code",
   "execution_count": null,
   "metadata": {},
   "outputs": [],
   "source": [
    "import datetime\n",
    "print(datetime.datetime.now())"
   ]
  },
  {
   "cell_type": "code",
   "execution_count": null,
   "metadata": {},
   "outputs": [],
   "source": [
    "from string import Template\n",
    "import sql_queries\n",
    "import pandas as pd\n",
    "\n",
    "rows = [('ARE6D0Y119B8667D9F', 'Alejandro Santiago', '', None, None)]\n",
    "rows_df = pd.DataFrame(\n",
    "        rows,\n",
    "        columns=[\n",
    "            'artist_id', 'artist_name', 'artist_location','artist_latitude', 'artist_longitude'\n",
    "        ]\n",
    "    )\n",
    "\n",
    "for index, row in rows_df.iterrows():\n",
    "    for col in row.index:\n",
    "        if row[col] is None:\n",
    "            row[col] = 'null'\n",
    "        else:\n",
    "            row[col] = f'${col}${row[col]}${col}$'\n",
    "    insert_artists_t = Template(sql_queries.artist_table_insert_b)\n",
    "    insert_artists = insert_artists_t.substitute(\n",
    "        artist_id=row['artist_id'],\n",
    "        name=row['artist_name'],\n",
    "        location=row['artist_location'],\n",
    "        latitude=row['artist_latitude'],\n",
    "        longitude=row['artist_longitude']\n",
    "    )\n",
    "    \n",
    "    print(insert_artists)"
   ]
  },
  {
   "cell_type": "code",
   "execution_count": null,
   "metadata": {},
   "outputs": [],
   "source": [
    "# substitute Nones for nulls\n",
    "# substitute values with $$tag$$value$$tag$$\n",
    "# do it with a regex or something else?\n",
    "# query text is unpredictable after the substitution of the desired values\n",
    "\n",
    "\n",
    "\n",
    "def formatForRedshift(raw_query, row):\n",
    "    # substitute Nones for nulls\n",
    "    # substitute row values into template\n",
    "\n",
    "    # $$artist_id$$<>$$artist_id$$\n",
    "    # $$name$$<>$$name$$\n",
    "    # $$location$$<>$$location$$\n",
    "    # $$latitude$$<>$$latitude$$\n",
    "    # $$longitude$$<>$$longitude$$\n",
    "    query_template = Template(sql_queries.artist_table_insert_b)\n",
    "    query = insert_artists_t.substitute(\n",
    "        artist_id=row['artist_id'],\n",
    "        name=row['artist_name'],\n",
    "        location=row['artist_location'],\n",
    "        latitude=row['artist_latitude'],\n",
    "        longitude=row['artist_longitude']\n",
    "    )\n",
    "    return q\n",
    "\n",
    "\n",
    "insert_artists_t = Template(sql_queries.artist_table_insert_b)\n",
    "insert_artists = insert_artists_t.substitute(\n",
    "    artist_id=row['artist_id'],\n",
    "    name=row['artist_name'],\n",
    "    location=row['artist_location'],\n",
    "    latitude=row['artist_latitude'],\n",
    "    longitude=row['artist_longitude']\n",
    ")"
   ]
  },
  {
   "cell_type": "code",
   "execution_count": null,
   "metadata": {},
   "outputs": [],
   "source": [
    "import copy\n",
    "\n",
    "row = [1, 2, 3]\n",
    "data = copy.copy(row)\n",
    "row[0] = 4\n",
    "print(row)\n",
    "print(data)"
   ]
  },
  {
   "cell_type": "code",
   "execution_count": null,
   "metadata": {},
   "outputs": [],
   "source": [
    "conn = psycopg2.connect(f\"\"\"\n",
    "        host=127.0.0.1 \n",
    "        dbname=scratchdb \n",
    "        user=student\n",
    "        password=student\n",
    "        port=5432\n",
    "    \"\"\")\n",
    "cur = conn.cursor()\n",
    "\n",
    "cur.execute(\"\"\"\n",
    "    INSERT INTO public.users(user_id, first_name, last_name, gender, level)\n",
    "\tVALUES (NULL, NULL, NULL, NULL, 'free');\n",
    "\"\"\")\n",
    "conn.commit()"
   ]
  },
  {
   "cell_type": "code",
   "execution_count": null,
   "metadata": {},
   "outputs": [],
   "source": [
    "userIda = 69\n",
    "userIdb = 69.0\n",
    "userIdstr = \"69.0\"\n",
    "print(int(userIda))\n",
    "print(type(userIdb))\n",
    "print(int(userIdb))\n",
    "print(int(float(userIdstr)))\n"
   ]
  },
  {
   "cell_type": "code",
   "execution_count": null,
   "metadata": {},
   "outputs": [],
   "source": [
    "def test_pandas_dt():\n",
    "    ts_i = 1541990217796\n",
    "    ts_dt = pd.to_datetime(ts_i, unit='ms')\n",
    "    print(ts_dt)\n",
    "    print(ts_dt.hour)\n",
    "    print(ts_dt.day)\n",
    "    print(ts_dt.week)\n",
    "    print(ts_dt.month)\n",
    "    print(ts_dt.year)\n",
    "    print(ts_dt.day_of_week)\n",
    "    print('just holding place')"
   ]
  },
  {
   "cell_type": "code",
   "execution_count": null,
   "metadata": {},
   "outputs": [],
   "source": [
    "# load dataframe from csv\n",
    "staging_songs = pd.read_csv('tests/staging_songs.csv')\n",
    "staging_songs\n"
   ]
  },
  {
   "cell_type": "code",
   "execution_count": null,
   "metadata": {},
   "outputs": [],
   "source": [
    "staging_events = pd.read_csv('tests/staging_events.csv')\n",
    "staging_events"
   ]
  },
  {
   "cell_type": "code",
   "execution_count": null,
   "metadata": {},
   "outputs": [],
   "source": [
    "import pandas as pd\n",
    "df = pd.read_csv('staging_songs.csv')\n",
    "series = df.iloc[0]\n",
    "series"
   ]
  },
  {
   "cell_type": "code",
   "execution_count": null,
   "metadata": {},
   "outputs": [],
   "source": [
    "import pandas as pd\n",
    "df = pd.read_csv('tests/staging_events.csv')\n",
    "df\n",
    "#series = df.iloc[0]\n",
    "#series\n",
    "#data = etl.formatForRedshift(series)"
   ]
  },
  {
   "cell_type": "code",
   "execution_count": 1,
   "metadata": {},
   "outputs": [
    {
     "name": "stdout",
     "output_type": "stream",
     "text": [
      "artist                                               A Fine Frenzy\n",
      "auth                                                     Logged In\n",
      "firstName                                                 Anabelle\n",
      "gender                                                           F\n",
      "itemInSession                                                    0\n",
      "lastName                                                   Simpson\n",
      "length                                                         267\n",
      "level                                                         free\n",
      "locataion              Philadelphia-Camden-Wilmington, PA-NJ-DE-MD\n",
      "method                                                         PUT\n",
      "page                                                      NextSong\n",
      "registration                                         1541044398796\n",
      "sessionId                                                      256\n",
      "song                                  Almost Lover (Album Version)\n",
      "status                                                         200\n",
      "ts                                                   1541377992796\n",
      "userAgent        Mozilla/5.0 (Macintosh; Intel Mac OS X 10_9_4)...\n",
      "userId                                                          69\n",
      "Name: 0, dtype: object\n",
      "[(1, datetime.datetime(2018, 11, 5, 0, 33, 12, 796000), 0, 5, 45, 11, 2018, 0)]\n"
     ]
    }
   ],
   "source": [
    "import pandas as pd\n",
    "import psycopg2\n",
    "\n",
    "import etl\n",
    "\n",
    "time_table_create = \"\"\"\n",
    "    CREATE TABLE IF NOT EXISTS time (\n",
    "        time_id     SERIAL              PRIMARY KEY,\n",
    "        start_time  TIMESTAMP           NOT NULL,\n",
    "        hour        INTEGER             NOT NULL,\n",
    "        day         INTEGER             NOT NULL,\n",
    "        week        INTEGER             NOT NULL,\n",
    "        month       INTEGER             NOT NULL,\n",
    "        year        INTEGER             NOT NULL,\n",
    "        weekday     INTEGER             NOT NULL\n",
    "    );\n",
    "\"\"\"\n",
    "\n",
    "conn = psycopg2.connect(\"host=127.0.0.1 dbname=dwhtestdb user=student password=student\")\n",
    "conn.autocommit = True\n",
    "with conn.cursor() as cur:\n",
    "    cur.execute(time_table_create)\n",
    "df = pd.read_csv('tests/staging_events.csv')\n",
    "series = df.iloc[0]\n",
    "print(series)\n",
    "with conn.cursor() as cur:\n",
    "    etl.load_time(cur, series)\n",
    "with conn.cursor() as cur:\n",
    "    cur.execute('SELECT * FROM time;')\n",
    "    print(cur.fetchall())"
   ]
  }
 ],
 "metadata": {
  "interpreter": {
   "hash": "8f340908d974e6e642b0f24874110ca1fcf85e3e8e95ea0f11995d54a92a2f68"
  },
  "kernelspec": {
   "display_name": "Python 3.9.7 ('data_engineering')",
   "language": "python",
   "name": "python3"
  },
  "language_info": {
   "codemirror_mode": {
    "name": "ipython",
    "version": 3
   },
   "file_extension": ".py",
   "mimetype": "text/x-python",
   "name": "python",
   "nbconvert_exporter": "python",
   "pygments_lexer": "ipython3",
   "version": "3.9.7"
  },
  "orig_nbformat": 4
 },
 "nbformat": 4,
 "nbformat_minor": 2
}
