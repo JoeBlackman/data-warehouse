{
 "cells": [
  {
   "cell_type": "code",
   "execution_count": 25,
   "metadata": {},
   "outputs": [],
   "source": [
    "import psycopg2\n",
    "import pandas as pd"
   ]
  },
  {
   "cell_type": "code",
   "execution_count": 26,
   "metadata": {},
   "outputs": [],
   "source": [
    "conn = psycopg2.connect(f\"\"\"\n",
    "        host=127.0.0.1 \n",
    "        dbname=scratchdb \n",
    "        user=student\n",
    "        password=student\n",
    "        port=5432\n",
    "    \"\"\")\n",
    "cur = conn.cursor()"
   ]
  },
  {
   "cell_type": "code",
   "execution_count": 27,
   "metadata": {},
   "outputs": [],
   "source": [
    "cur.execute('SELECT * FROM staging_songs;')\n",
    "conn.commit()\n",
    "data=cur.fetchall()\n",
    "#returns list of tuples"
   ]
  },
  {
   "cell_type": "code",
   "execution_count": 28,
   "metadata": {},
   "outputs": [
    {
     "name": "stdout",
     "output_type": "stream",
     "text": [
      "   num_songs           artist_id artist_latitude artist_longitude  \\\n",
      "0          1  ARJIE2Y1187B994AB7            None             None   \n",
      "1          1       dummyartistid            None             None   \n",
      "\n",
      "  artist_location      artist_name             song_id                title  \\\n",
      "0                      Line Renaud  SOUPIRU12A6D4FA1E1  Der Kleine Dompfaff   \n",
      "1                  dummyartistname         dummysongid        dummysongname   \n",
      "\n",
      "    duration  year  \n",
      "0  152.92036     0  \n",
      "1  152.92036     0  \n"
     ]
    }
   ],
   "source": [
    "#convert list of tuples to pandas dataframe\n",
    "df = pd.DataFrame(data, columns=[\n",
    "        'num_songs', 'artist_id', 'artist_latitude', 'artist_longitude',\n",
    "        'artist_location', 'artist_name', 'song_id', 'title', 'duration', 'year'\n",
    "    ]\n",
    ")\n",
    "print(df)"
   ]
  },
  {
   "cell_type": "code",
   "execution_count": 29,
   "metadata": {},
   "outputs": [],
   "source": [
    "conn.close()"
   ]
  },
  {
   "cell_type": "code",
   "execution_count": 30,
   "metadata": {},
   "outputs": [
    {
     "name": "stdout",
     "output_type": "stream",
     "text": [
      "2022-05-09 01:45:56.757219\n"
     ]
    }
   ],
   "source": [
    "import datetime\n",
    "print(datetime.datetime.now())"
   ]
  }
 ],
 "metadata": {
  "interpreter": {
   "hash": "8f340908d974e6e642b0f24874110ca1fcf85e3e8e95ea0f11995d54a92a2f68"
  },
  "kernelspec": {
   "display_name": "Python 3.9.7 ('data_engineering')",
   "language": "python",
   "name": "python3"
  },
  "language_info": {
   "codemirror_mode": {
    "name": "ipython",
    "version": 3
   },
   "file_extension": ".py",
   "mimetype": "text/x-python",
   "name": "python",
   "nbconvert_exporter": "python",
   "pygments_lexer": "ipython3",
   "version": "3.9.7"
  },
  "orig_nbformat": 4
 },
 "nbformat": 4,
 "nbformat_minor": 2
}
