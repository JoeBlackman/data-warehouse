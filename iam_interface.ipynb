{
 "cells": [
  {
   "cell_type": "markdown",
   "metadata": {},
   "source": [
    "### **Setup**"
   ]
  },
  {
   "cell_type": "code",
   "execution_count": 1,
   "metadata": {},
   "outputs": [],
   "source": [
    "import boto3\n",
    "import configparser"
   ]
  },
  {
   "cell_type": "code",
   "execution_count": 2,
   "metadata": {},
   "outputs": [],
   "source": [
    "config = configparser.ConfigParser()\n",
    "config.read('dwh.cfg')\n",
    "\n",
    "REGION = config.get('AWS', 'REGION')\n",
    "KEY = config.get('AWS', 'KEY')\n",
    "SECRET = config.get('AWS', 'SECRET')"
   ]
  },
  {
   "cell_type": "code",
   "execution_count": 3,
   "metadata": {},
   "outputs": [],
   "source": [
    "iam = boto3.client('iam',\n",
    "    aws_access_key_id=KEY,\n",
    "    aws_secret_access_key=SECRET,\n",
    "    region_name=REGION\n",
    ")"
   ]
  },
  {
   "cell_type": "markdown",
   "metadata": {},
   "source": [
    "### **Current User**"
   ]
  },
  {
   "cell_type": "code",
   "execution_count": 4,
   "metadata": {},
   "outputs": [
    {
     "data": {
      "text/plain": [
       "{'Users': [{'Path': '/',\n",
       "   'UserName': 'admin',\n",
       "   'UserId': 'AIDA5Y5BLIWYVH5KHGVQ2',\n",
       "   'Arn': 'arn:aws:iam::946841798065:user/admin',\n",
       "   'CreateDate': datetime.datetime(2022, 2, 10, 13, 39, 13, tzinfo=tzutc())},\n",
       "  {'Path': '/',\n",
       "   'UserName': 'airflow_redshift_user',\n",
       "   'UserId': 'AIDA5Y5BLIWY5WBDCCDMQ',\n",
       "   'Arn': 'arn:aws:iam::946841798065:user/airflow_redshift_user',\n",
       "   'CreateDate': datetime.datetime(2022, 2, 3, 16, 41, 44, tzinfo=tzutc())},\n",
       "  {'Path': '/',\n",
       "   'UserName': 'dwhAdmin',\n",
       "   'UserId': 'AIDA5Y5BLIWY6YPDY4UMQ',\n",
       "   'Arn': 'arn:aws:iam::946841798065:user/dwhAdmin',\n",
       "   'CreateDate': datetime.datetime(2022, 2, 24, 16, 8, 39, tzinfo=tzutc())},\n",
       "  {'Path': '/',\n",
       "   'UserName': 'project_data_warehouse',\n",
       "   'UserId': 'AIDA5Y5BLIWYT44PVLZ3U',\n",
       "   'Arn': 'arn:aws:iam::946841798065:user/project_data_warehouse',\n",
       "   'CreateDate': datetime.datetime(2022, 2, 21, 3, 56, 49, tzinfo=tzutc())}],\n",
       " 'IsTruncated': False,\n",
       " 'ResponseMetadata': {'RequestId': 'a8452777-18b8-4400-a7ad-06d6912c7c85',\n",
       "  'HTTPStatusCode': 200,\n",
       "  'HTTPHeaders': {'x-amzn-requestid': 'a8452777-18b8-4400-a7ad-06d6912c7c85',\n",
       "   'content-type': 'text/xml',\n",
       "   'content-length': '1357',\n",
       "   'date': 'Fri, 25 Mar 2022 13:34:47 GMT'},\n",
       "  'RetryAttempts': 0}}"
      ]
     },
     "execution_count": 4,
     "metadata": {},
     "output_type": "execute_result"
    }
   ],
   "source": [
    "iam.list_users()"
   ]
  }
 ],
 "metadata": {
  "interpreter": {
   "hash": "8f340908d974e6e642b0f24874110ca1fcf85e3e8e95ea0f11995d54a92a2f68"
  },
  "kernelspec": {
   "display_name": "Python 3.9.7 ('data_engineering')",
   "language": "python",
   "name": "python3"
  },
  "language_info": {
   "codemirror_mode": {
    "name": "ipython",
    "version": 3
   },
   "file_extension": ".py",
   "mimetype": "text/x-python",
   "name": "python",
   "nbconvert_exporter": "python",
   "pygments_lexer": "ipython3",
   "version": "3.9.7"
  },
  "orig_nbformat": 4
 },
 "nbformat": 4,
 "nbformat_minor": 2
}
